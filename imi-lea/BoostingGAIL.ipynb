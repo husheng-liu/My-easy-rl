{
 "cells": [
  {
   "cell_type": "code",
   "execution_count": 1,
   "outputs": [],
   "source": [
    "import random\n",
    "\n",
    "import gym\n",
    "import torch as th\n",
    "import numpy as np\n",
    "import matplotlib.pyplot as plt\n",
    "\n",
    "from torch import nn\n",
    "from tqdm import tqdm\n",
    "from torch.nn import functional as F"
   ],
   "metadata": {
    "collapsed": false,
    "pycharm": {
     "name": "#%%\n"
    }
   }
  },
  {
   "cell_type": "code",
   "execution_count": 2,
   "outputs": [
    {
     "name": "stderr",
     "output_type": "stream",
     "text": [
      "D:\\anaconda3\\lib\\site-packages\\gym\\utils\\passive_env_checker.py:97: UserWarning: \u001B[33mWARN: We recommend you to use a symmetric and normalized Box action space (range=[-1, 1]) https://stable-baselines3.readthedocs.io/en/master/guide/rl_tips.html\u001B[0m\n",
      "  logger.warn(\n"
     ]
    }
   ],
   "source": [
    "env = gym.make(\"CartPole-user\")"
   ],
   "metadata": {
    "collapsed": false,
    "pycharm": {
     "name": "#%%\n"
    }
   }
  },
  {
   "cell_type": "code",
   "execution_count": 3,
   "outputs": [],
   "source": [
    "class PolicyNet(nn.Module):\n",
    "\tdef __init__(self, state_dim, hidden_dim, action_dim):\n",
    "\t\tsuper(PolicyNet, self).__init__()\n",
    "\t\tself.fc1 = nn.Linear(state_dim, hidden_dim)\n",
    "\t\tself.fc2 = nn.Linear(hidden_dim, action_dim)\n",
    "\n",
    "\tdef forward(self, x):\n",
    "\t\tx = F.relu(self.fc1(x))\n",
    "\t\treturn F.softmax(self.fc2(x), dim=1)"
   ],
   "metadata": {
    "collapsed": false,
    "pycharm": {
     "name": "#%%\n"
    }
   }
  },
  {
   "cell_type": "code",
   "execution_count": 4,
   "outputs": [],
   "source": [
    "class ValueNet(nn.Module):\n",
    "\tdef __init__(self, state_dim, hidden_dim):\n",
    "\t\tsuper(ValueNet, self).__init__()\n",
    "\t\tself.fc1 = nn.Linear(state_dim, hidden_dim)\n",
    "\t\tself.fc2 = nn.Linear(hidden_dim, 1)\n",
    "\n",
    "\tdef forward(self, x):\n",
    "\t\tx = F.relu(self.fc1(x))\n",
    "\t\treturn self.fc2(x)"
   ],
   "metadata": {
    "collapsed": false,
    "pycharm": {
     "name": "#%%\n"
    }
   }
  },
  {
   "cell_type": "code",
   "execution_count": 5,
   "outputs": [],
   "source": [
    "def compute_advantage(gamma, lambda_, td_delta):\n",
    "\ttd_delta = td_delta.cpu().detach().numpy()\n",
    "\tadvantage_list = []\n",
    "\tadvantage = 0.0\n",
    "\tfor delta in td_delta[::-1]:\n",
    "\t\tadvantage = gamma * lambda_ * advantage + delta\n",
    "\t\tadvantage_list.append(advantage)\n",
    "\tadvantage_list.reverse()\n",
    "\treturn th.tensor(advantage_list, dtype=th.float)"
   ],
   "metadata": {
    "collapsed": false,
    "pycharm": {
     "name": "#%%\n"
    }
   }
  },
  {
   "cell_type": "code",
   "execution_count": 6,
   "outputs": [],
   "source": [
    "class PPO:\n",
    "\t\"\"\" PPO算法，采用截断方式 \"\"\"\n",
    "\n",
    "\tdef __init__(self, state_dim, hidden_dim, action_dim, actor_lr, critic_lr, lambda_, epochs, eps, gamma):\n",
    "\t\tself.actor = PolicyNet(state_dim, hidden_dim, action_dim).to(device)\n",
    "\t\tself.critic = ValueNet(state_dim, hidden_dim).to(device)\n",
    "\t\tself.actor_optimizer = th.optim.Adam(self.actor.parameters(), lr=actor_lr)\n",
    "\t\tself.critic_optimizer = th.optim.Adam(self.critic.parameters(), lr=critic_lr)\n",
    "\t\tself.gamma = gamma\n",
    "\t\tself.lambda_ = lambda_\n",
    "\t\tself.epochs = epochs\n",
    "\t\tself.eps = eps\n",
    "\n",
    "\tdef take_action(self, state):\n",
    "\t\tstate = th.tensor([state], dtype=th.float).to(device)\n",
    "\t\tprobs = self.actor(state)\n",
    "\t\taction_dist = th.distributions.Categorical(probs)\n",
    "\t\taction = action_dist.sample()\n",
    "\t\treturn action.item()\n",
    "\n",
    "\tdef update(self, transition_dict):\n",
    "\t\tstates = th.tensor(transition_dict[\"states\"], dtype=th.float).to(device)\n",
    "\t\tactions = th.tensor(transition_dict[\"actions\"], dtype=th.float).view(-1, 1).to(device)\n",
    "\t\trewards = th.tensor(transition_dict[\"rewards\"], dtype=th.float).view(-1, 1).to(device)\n",
    "\t\tnext_states = th.tensor(transition_dict[\"next_states\"], dtype=th.float).to(device)\n",
    "\t\tdones = th.tensor(transition_dict[\"dones\"], dtype=th.float).view(-1, 1).to(device)\n",
    "\t\ttd_target = rewards + self.gamma * self.critic(next_states) * (1 - dones).to(device)\n",
    "\t\ttd_delta = td_target - self.critic(states)\n",
    "\t\tadvantage = compute_advantage(self.gamma, self.lambda_, td_delta).to(device)\n",
    "\t\told_log_probs = th.log(self.actor(states).gather(1, actions.type(th.int64))).detach()\n",
    "\n",
    "\t\tfor _ in range(self.epochs):\n",
    "\t\t\tlog_probs = th.log(self.actor(states).gather(1, actions.type(th.int64)))\n",
    "\t\t\tratio = th.exp(log_probs - old_log_probs)\n",
    "\t\t\tsurr1 = ratio * advantage\n",
    "\t\t\tsurr2 = th.clamp(ratio, 1 - self.eps, 1 + self.eps) * advantage\n",
    "\t\t\tactor_loss = th.mean(-th.min(surr1, surr2))\n",
    "\t\t\tcritic_loss = th.mean(F.mse_loss(self.critic(states), td_target.detach()))\n",
    "\t\t\tself.actor_optimizer.zero_grad()\n",
    "\t\t\tself.critic_optimizer.zero_grad()\n",
    "\t\t\tactor_loss.backward()\n",
    "\t\t\tcritic_loss.backward()\n",
    "\t\t\tself.actor_optimizer.step()\n",
    "\t\t\tself.critic_optimizer.step()"
   ],
   "metadata": {
    "collapsed": false,
    "pycharm": {
     "name": "#%%\n"
    }
   }
  },
  {
   "cell_type": "code",
   "execution_count": 7,
   "outputs": [],
   "source": [
    "def train_on_policy_agent(env, agent, num_episodes):\n",
    "\treturn_list = []\n",
    "\tfor i in range(epochs):\n",
    "\t\twith tqdm(total=int(num_episodes / 10), desc='Iteration %d' % i) as pbar:\n",
    "\t\t\tfor i_episode in range(int(num_episodes / 10)):\n",
    "\t\t\t\tepisode_return = 0\n",
    "\t\t\t\ttransition_dict = {\"states\": [], \"actions\": [], \"next_states\": [], \"rewards\": [], \"dones\": []}\n",
    "\t\t\t\tstate = env.reset()\n",
    "\t\t\t\tdone = False\n",
    "\t\t\t\twhile not done:\n",
    "\t\t\t\t\taction = agent.take_action(state)\n",
    "\t\t\t\t\tnext_state, reward, done, _ = env.step(action)\n",
    "\n",
    "\t\t\t\t\ttransition_dict[\"states\"].append(state)\n",
    "\t\t\t\t\ttransition_dict[\"actions\"].append(action)\n",
    "\t\t\t\t\ttransition_dict[\"next_states\"].append(next_state)\n",
    "\t\t\t\t\ttransition_dict[\"rewards\"].append(reward)\n",
    "\t\t\t\t\ttransition_dict[\"dones\"].append(done)\n",
    "\t\t\t\t\tstate = next_state\n",
    "\t\t\t\t\tepisode_return += reward\n",
    "\t\t\t\treturn_list.append(episode_return)\n",
    "\t\t\t\tagent.update(transition_dict)\n",
    "\t\t\t\tif (i_episode + 1) % 10 == 0:\n",
    "\t\t\t\t\tpbar.set_postfix({'episode': '%d' % (num_episodes / 10 * i + i_episode + 1),\n",
    "\t\t\t\t\t                  'return': '%.3f' % np.mean(return_list[-10:])})\n",
    "\t\t\t\tpbar.update(1)\n",
    "\treturn return_list"
   ],
   "metadata": {
    "collapsed": false,
    "pycharm": {
     "name": "#%%\n"
    }
   }
  },
  {
   "cell_type": "code",
   "execution_count": 8,
   "outputs": [
    {
     "name": "stdout",
     "output_type": "stream",
     "text": [
      "device: cuda\n"
     ]
    }
   ],
   "source": [
    "actor_lr = 1e-3\n",
    "critic_lr = 1e-2\n",
    "num_episodes = 300\n",
    "hidden_dim = 128\n",
    "gamma = 0.98\n",
    "lambda_ = 0.95\n",
    "epochs = 10\n",
    "eps = 0.2\n",
    "\n",
    "device = th.device(\"cuda\") if th.cuda.is_available() else th.device(\"cpu\")\n",
    "state_dim = env.observation_space.shape[0]\n",
    "action_dim = env.action_space.n\n",
    "ppo_agent = PPO(state_dim, hidden_dim, action_dim, actor_lr, critic_lr, lambda_, epochs, eps, gamma)\n",
    "\n",
    "print(f\"device: {device}\")"
   ],
   "metadata": {
    "collapsed": false,
    "pycharm": {
     "name": "#%%\n"
    }
   }
  },
  {
   "cell_type": "code",
   "execution_count": 9,
   "outputs": [
    {
     "name": "stderr",
     "output_type": "stream",
     "text": [
      "Iteration 0:   0%|          | 0/30 [00:00<?, ?it/s]C:\\Users\\liu_z\\AppData\\Local\\Temp\\ipykernel_24552\\2478470367.py:15: UserWarning: Creating a tensor from a list of numpy.ndarrays is extremely slow. Please consider converting the list to a single numpy.ndarray with numpy.array() before converting to a tensor. (Triggered internally at  C:\\cb\\pytorch_1000000000000\\work\\torch\\csrc\\utils\\tensor_new.cpp:210.)\n",
      "  state = th.tensor([state], dtype=th.float).to(device)\n",
      "Iteration 0: 100%|██████████| 30/30 [00:21<00:00,  1.36it/s, episode=30, return=112.400]\n",
      "Iteration 1: 100%|██████████| 30/30 [00:05<00:00,  5.93it/s, episode=60, return=108.700]\n",
      "Iteration 2: 100%|██████████| 30/30 [00:06<00:00,  4.78it/s, episode=90, return=312.300]\n",
      "Iteration 3: 100%|██████████| 30/30 [00:11<00:00,  2.64it/s, episode=120, return=456.600]\n",
      "Iteration 4: 100%|██████████| 30/30 [00:11<00:00,  2.51it/s, episode=150, return=500.000]\n",
      "Iteration 5: 100%|██████████| 30/30 [00:10<00:00,  2.84it/s, episode=180, return=285.000]\n",
      "Iteration 6: 100%|██████████| 30/30 [00:19<00:00,  1.53it/s, episode=210, return=500.000]\n",
      "Iteration 7: 100%|██████████| 30/30 [00:19<00:00,  1.57it/s, episode=240, return=467.900]\n",
      "Iteration 8: 100%|██████████| 30/30 [00:19<00:00,  1.54it/s, episode=270, return=500.000]\n",
      "Iteration 9: 100%|██████████| 30/30 [00:19<00:00,  1.55it/s, episode=300, return=500.000]\n"
     ]
    }
   ],
   "source": [
    "return_list = train_on_policy_agent(env, ppo_agent, num_episodes)"
   ],
   "metadata": {
    "collapsed": false,
    "pycharm": {
     "name": "#%%\n"
    }
   }
  },
  {
   "cell_type": "code",
   "execution_count": 10,
   "outputs": [],
   "source": [
    "def sample_expert_data(n_episode):\n",
    "    states = []\n",
    "    actions = []\n",
    "    for episode in range(n_episode):\n",
    "        state = env.reset()\n",
    "        done = False\n",
    "        while not done:\n",
    "            action = ppo_agent.take_action(state)\n",
    "            states.append(state)\n",
    "            actions.append(action)\n",
    "            next_state, reward, done, _ = env.step(action)\n",
    "            state = next_state\n",
    "    return np.array(states), np.array(actions)"
   ],
   "metadata": {
    "collapsed": false,
    "pycharm": {
     "name": "#%%\n"
    }
   }
  },
  {
   "cell_type": "code",
   "execution_count": 11,
   "outputs": [],
   "source": [
    "n_episode = 1\n",
    "expert_s, expert_a = sample_expert_data(n_episode)\n",
    "\n",
    "n_samples = 30  # 采样30个数据\n",
    "random_index = random.sample(range(expert_s.shape[0]), n_samples)\n",
    "expert_s = expert_s[random_index]\n",
    "expert_a = expert_a[random_index]"
   ],
   "metadata": {
    "collapsed": false,
    "pycharm": {
     "name": "#%%\n"
    }
   }
  },
  {
   "cell_type": "code",
   "execution_count": 12,
   "outputs": [],
   "source": [
    "class Discriminator(nn.Module):\n",
    "    def __init__(self, state_dim, hidden_dim, action_dim):\n",
    "        super(Discriminator, self).__init__()\n",
    "        self.fc1 = th.nn.Linear(state_dim + action_dim, hidden_dim)\n",
    "        self.fc2 = th.nn.Linear(hidden_dim, 1)\n",
    "\n",
    "    def forward(self, x, a):\n",
    "        cat = th.cat([x, a], dim=1)\n",
    "        x = F.relu(self.fc1(cat))\n",
    "        return th.sigmoid(self.fc2(x))"
   ],
   "metadata": {
    "collapsed": false,
    "pycharm": {
     "name": "#%%\n"
    }
   }
  },
  {
   "cell_type": "code",
   "execution_count": 13,
   "outputs": [],
   "source": [
    "class GAIL:\n",
    "    def __init__(self, agent, state_dim, action_dim, hidden_dim, lr_d):\n",
    "        self.discriminator = Discriminator(state_dim, hidden_dim, action_dim).to(device)\n",
    "        self.discriminator_optimizer = th.optim.Adam(self.discriminator.parameters(), lr=lr_d)\n",
    "        self.agent = agent\n",
    "\n",
    "    def learn(self, expert_s, expert_a, agent_s, agent_a, next_s, dones):\n",
    "        expert_states = th.tensor(expert_s, dtype=th.float).to(device)\n",
    "        expert_actions = th.tensor(expert_a, dtype=th.int64).to(device)\n",
    "        agent_states = th.tensor(agent_s, dtype=th.float).to(device)\n",
    "        agent_actions = th.tensor(agent_a, dtype=th.int64).to(device)\n",
    "        expert_actions = F.one_hot(expert_actions, num_classes=2).float()\n",
    "        agent_actions = F.one_hot(agent_actions, num_classes=2).float()\n",
    "\n",
    "        expert_prob = self.discriminator(expert_states, expert_actions)\n",
    "        agent_prob = self.discriminator(agent_states, agent_actions)\n",
    "        discriminator_loss = nn.BCELoss()(agent_prob, th.ones_like(agent_prob)) + nn.BCELoss()(expert_prob, th.zeros_like(expert_prob))\n",
    "        self.discriminator_optimizer.zero_grad()\n",
    "        discriminator_loss.backward()\n",
    "        self.discriminator_optimizer.step()\n",
    "\n",
    "        rewards = -th.log(agent_prob).detach().cpu().numpy()\n",
    "        transition_dict = {\n",
    "            'states': agent_s,\n",
    "            'actions': agent_a,\n",
    "            'rewards': rewards,\n",
    "            'next_states': next_s,\n",
    "            'dones': dones\n",
    "        }\n",
    "        self.agent.update(transition_dict)"
   ],
   "metadata": {
    "collapsed": false,
    "pycharm": {
     "name": "#%%\n"
    }
   }
  },
  {
   "cell_type": "code",
   "execution_count": 15,
   "outputs": [
    {
     "name": "stderr",
     "output_type": "stream",
     "text": [
      "进度条: 100%|██████████| 300/300 [02:40<00:00,  1.87it/s, return=450.000]\n"
     ]
    }
   ],
   "source": [
    "lr_d = 1e-3\n",
    "agent = PPO(state_dim, hidden_dim, action_dim, actor_lr, critic_lr, lambda_, epochs, eps, gamma)\n",
    "gail = GAIL(agent, state_dim, action_dim, hidden_dim, lr_d)\n",
    "n_episode = 300\n",
    "return_list = []\n",
    "\n",
    "with tqdm(total=n_episode, desc=\"进度条\") as pbar:\n",
    "    for i in range(n_episode):\n",
    "        episode_return = 0\n",
    "        state = env.reset()\n",
    "        done = False\n",
    "        state_list = []\n",
    "        action_list = []\n",
    "        next_state_list = []\n",
    "        done_list = []\n",
    "        while not done:\n",
    "            action = agent.take_action(state)\n",
    "            next_state, reward, done, _ = env.step(action)\n",
    "            state_list.append(state)\n",
    "            action_list.append(action)\n",
    "            next_state_list.append(next_state)\n",
    "            done_list.append(done)\n",
    "            state = next_state\n",
    "            episode_return += reward\n",
    "        return_list.append(episode_return)\n",
    "        gail.learn(expert_s, expert_a, state_list, action_list, next_state_list, done_list)\n",
    "        if (i + 1) % 10 == 0:\n",
    "            pbar.set_postfix({'return': '%.3f' % np.mean(return_list[-10:])})\n",
    "        pbar.update(1)"
   ],
   "metadata": {
    "collapsed": false,
    "pycharm": {
     "name": "#%%\n"
    }
   }
  },
  {
   "cell_type": "code",
   "execution_count": 16,
   "outputs": [
    {
     "data": {
      "text/plain": "<Figure size 432x288 with 1 Axes>",
      "image/png": "[encoded data removed]"
     },
     "metadata": {
      "needs_background": "light"
     },
     "output_type": "display_data"
    }
   ],
   "source": [
    "iteration_list = list(range(len(return_list)))\n",
    "plt.plot(iteration_list, return_list)\n",
    "plt.xlabel(\"Episodes\")\n",
    "plt.ylabel(\"Returns\")\n",
    "plt.title(\"GAIL\")\n",
    "plt.show()"
   ],
   "metadata": {
    "collapsed": false,
    "pycharm": {
     "name": "#%%\n"
    }
   }
  },
  {
   "cell_type": "code",
   "execution_count": null,
   "outputs": [],
   "source": [],
   "metadata": {
    "collapsed": false,
    "pycharm": {
     "name": "#%%\n"
    }
   }
  },
  {
   "cell_type": "code",
   "execution_count": 23,
   "outputs": [
    {
     "name": "stderr",
     "output_type": "stream",
     "text": [
      "进度条: 100%|██████████| 300/300 [05:12<00:00,  1.04s/it, return=500.000]\n"
     ]
    }
   ],
   "source": [
    "lr_d = 1e-3\n",
    "expert = ppo_agent\n",
    "agent = PPO(state_dim, hidden_dim, action_dim, actor_lr, critic_lr, lambda_, epochs, eps, gamma)\n",
    "gail = GAIL(agent, state_dim, action_dim, hidden_dim, lr_d)\n",
    "n_episode = 300\n",
    "return_list = []\n",
    "\n",
    "with tqdm(total=n_episode, desc=\"进度条\") as pbar:\n",
    "    for i in range(n_episode):\n",
    "        episode_return = 0\n",
    "        state = env.reset()\n",
    "        done = False\n",
    "        state_list = []\n",
    "        action_list = []\n",
    "        next_state_list = []\n",
    "        done_list = []\n",
    "        while not done:\n",
    "            expert_action = expert.take_action(state)\n",
    "            agent_action = agent.take_action(state)\n",
    "            next_state, agent_reward, done, _ = env.step(agent_action)\n",
    "            dummy_next_state, expert_reward, dummy_done, _, _ = env.expert_step(expert_action)\n",
    "\n",
    "            if not done and expert_reward < agent_reward:\n",
    "                np.append(expert_s, np.expand_dims(state, axis=0), axis=0)\n",
    "                np.append(expert_a, np.expand_dims(agent_action, axis=0), axis=0)\n",
    "\n",
    "            state_list.append(state)\n",
    "            action_list.append(agent_action)\n",
    "            next_state_list.append(next_state)\n",
    "            done_list.append(done)\n",
    "            state = next_state\n",
    "            episode_return += agent_reward\n",
    "        return_list.append(episode_return)\n",
    "        gail.learn(expert_s, expert_a, state_list, action_list, next_state_list, done_list)\n",
    "        if (i + 1) % 10 == 0:\n",
    "            pbar.set_postfix({'return': '%.3f' % np.mean(return_list[-10:])})\n",
    "        pbar.update(1)"
   ],
   "metadata": {
    "collapsed": false,
    "pycharm": {
     "name": "#%%\n"
    }
   }
  },
  {
   "cell_type": "code",
   "execution_count": 24,
   "outputs": [
    {
     "data": {
      "text/plain": "<Figure size 432x288 with 1 Axes>",
      "image/png": "[encoded data removed]"
     },
     "metadata": {
      "needs_background": "light"
     },
     "output_type": "display_data"
    }
   ],
   "source": [
    "iteration_list = list(range(len(return_list)))\n",
    "plt.plot(iteration_list, return_list)\n",
    "plt.xlabel(\"Episodes\")\n",
    "plt.ylabel(\"Returns\")\n",
    "plt.title(\"BoostingGAIL\")\n",
    "plt.show()"
   ],
   "metadata": {
    "collapsed": false,
    "pycharm": {
     "name": "#%%\n"
    }
   }
  },
  {
   "cell_type": "code",
   "execution_count": null,
   "outputs": [],
   "source": [],
   "metadata": {
    "collapsed": false,
    "pycharm": {
     "name": "#%%\n"
    }
   }
  }
 ],
 "metadata": {
  "kernelspec": {
   "display_name": "Python 3",
   "language": "python",
   "name": "python3"
  },
  "language_info": {
   "codemirror_mode": {
    "name": "ipython",
    "version": 2
   },
   "file_extension": ".py",
   "mimetype": "text/x-python",
   "name": "python",
   "nbconvert_exporter": "python",
   "pygments_lexer": "ipython2",
   "version": "2.7.6"
  }
 },
 "nbformat": 4,
 "nbformat_minor": 0
}