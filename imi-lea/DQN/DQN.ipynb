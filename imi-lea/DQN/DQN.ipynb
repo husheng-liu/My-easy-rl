{
 "cells": [
  {
   "cell_type": "code",
   "execution_count": 1,
   "outputs": [],
   "source": [
    "import gym\n",
    "import math\n",
    "import random\n",
    "import numpy as np\n",
    "import matplotlib\n",
    "import matplotlib.pyplot as plt\n",
    "from collections import namedtuple, deque\n",
    "from itertools import count\n",
    "from PIL import Image\n",
    "\n",
    "import torch\n",
    "import torch.nn as nn\n",
    "import torch.optim as optim\n",
    "import torch.nn.functional as F\n",
    "import torchvision.transforms as T\n",
    "\n",
    "env = gym.make('Taxi-v3').unwrapped\n",
    "\n",
    "# set up matplotlib\n",
    "is_ipython = 'inline' in matplotlib.get_backend()\n",
    "if is_ipython:\n",
    "    from IPython import display\n",
    "\n",
    "plt.ion()\n",
    "\n",
    "# if gpu is to be used\n",
    "device = torch.device(\"cuda\" if torch.cuda.is_available() else \"cpu\")"
   ],
   "metadata": {
    "collapsed": false,
    "pycharm": {
     "name": "#%%\n"
    }
   }
  },
  {
   "cell_type": "code",
   "execution_count": 3,
   "outputs": [],
   "source": [
    "Transition = namedtuple('Transition',\n",
    "                        ('state', 'action', 'next_state', 'reward'))\n",
    "\n",
    "\n",
    "# 缓存池\n",
    "class ReplayMemory(object):\n",
    "\n",
    "    def __init__(self, capacity):\n",
    "        self.memory = deque([], maxlen=capacity)\n",
    "\n",
    "    def push(self, *args):\n",
    "        \"\"\"Save a transition\"\"\"\n",
    "        self.memory.append(Transition(*args))\n",
    "        return Transition(*args)\n",
    "\n",
    "    def sample(self, batch_size):\n",
    "        return random.sample(self.memory, batch_size)\n",
    "\n",
    "    def __len__(self):\n",
    "        return len(self.memory)"
   ],
   "metadata": {
    "collapsed": false,
    "pycharm": {
     "name": "#%%\n"
    }
   }
  },
  {
   "cell_type": "markdown",
   "source": [
    "- 添加记忆, 先使用Q表训练模型"
   ],
   "metadata": {
    "collapsed": false,
    "pycharm": {
     "name": "#%% md\n"
    }
   }
  },
  {
   "cell_type": "code",
   "execution_count": 4,
   "outputs": [],
   "source": [
    "memory = ReplayMemory(50000)"
   ],
   "metadata": {
    "collapsed": false,
    "pycharm": {
     "name": "#%%\n"
    }
   }
  },
  {
   "cell_type": "code",
   "execution_count": 5,
   "outputs": [
    {
     "name": "stdout",
     "output_type": "stream",
     "text": [
      "10000\n"
     ]
    }
   ],
   "source": [
    "import random\n",
    "from IPython.display import clear_output\n",
    "from time import sleep\n",
    "import pandas as pd\n",
    "import numpy as np\n",
    "\n",
    "q_table = pd.read_csv(\"Q_table.csv\").values\n",
    "\n",
    "episodes = 10001\n",
    "for _ in range(episodes):\n",
    "    state = env.reset()\n",
    "    epochs, penalties, reward = 0, 0, 0\n",
    "\n",
    "    done = False\n",
    "\n",
    "    while not done:\n",
    "        action = np.argmax(q_table[state])\n",
    "        next_state, reward, done, info = env.step(action)\n",
    "        memory.push(state, action, next_state, reward)\n",
    "        state = next_state\n",
    "        if reward == -10:\n",
    "            penalties += 1\n",
    "        # clear_output(wait=True)\n",
    "        # print(env.render(mode='ansi'))\n",
    "        epochs += 1\n",
    "    clear_output(wait=True)\n",
    "    print(_)"
   ],
   "metadata": {
    "collapsed": false,
    "pycharm": {
     "name": "#%%\n"
    }
   }
  },
  {
   "cell_type": "code",
   "execution_count": 7,
   "outputs": [],
   "source": [
    "class DQN(nn.Module):\n",
    "\n",
    "    def __init__(self, outputs, input_features=1):\n",
    "        super(DQN, self).__init__()\n",
    "        self.n1 = nn.Linear(input_features, 64)\n",
    "        self.n2 = nn.Linear(64, 32)\n",
    "        self.n3 = nn.Linear(32, outputs)\n",
    "\n",
    "    def forward(self, x):\n",
    "        x = x.to(device)\n",
    "        x = F.relu(self.n1(x))\n",
    "        x = F.relu(self.n2(x))\n",
    "        return self.n3(x)"
   ],
   "metadata": {
    "collapsed": false,
    "pycharm": {
     "name": "#%%\n"
    }
   }
  },
  {
   "cell_type": "code",
   "execution_count": 8,
   "outputs": [],
   "source": [
    "state = env.reset()"
   ],
   "metadata": {
    "collapsed": false,
    "pycharm": {
     "name": "#%%\n"
    }
   }
  },
  {
   "cell_type": "code",
   "execution_count": 9,
   "outputs": [
    {
     "data": {
      "text/plain": "DQN(\n  (n1): Linear(in_features=1, out_features=64, bias=True)\n  (n2): Linear(in_features=64, out_features=32, bias=True)\n  (n3): Linear(in_features=32, out_features=6, bias=True)\n)"
     },
     "execution_count": 9,
     "metadata": {},
     "output_type": "execute_result"
    }
   ],
   "source": [
    "BATCH_SIZE = 128\n",
    "GAMMA = 0.999\n",
    "EPS = 0.6\n",
    "TARGET_UPDATE = 5\n",
    "ALPHA = 0.1\n",
    "policy_net = DQN(env.action_space.n).to(device)\n",
    "target_net = DQN(env.action_space.n).to(device)\n",
    "target_net.load_state_dict(policy_net.state_dict())\n",
    "target_net.eval()"
   ],
   "metadata": {
    "collapsed": false,
    "pycharm": {
     "name": "#%%\n"
    }
   }
  },
  {
   "cell_type": "code",
   "execution_count": 10,
   "outputs": [],
   "source": [
    "def select_action(state):\n",
    "    sample = random.random()\n",
    "    if sample < EPS:\n",
    "        with torch.no_grad():\n",
    "            return int(torch.max(policy_net(torch.Tensor([[state]])), 1)[1])\n",
    "    else:\n",
    "        return int(torch.tensor([[random.randrange(env.action_space.n)]], device=device, dtype=torch.long))"
   ],
   "metadata": {
    "collapsed": false,
    "pycharm": {
     "name": "#%%\n"
    }
   }
  },
  {
   "cell_type": "code",
   "execution_count": 12,
   "outputs": [],
   "source": [
    "optimizer = optim.RMSprop(policy_net.parameters(), lr=ALPHA)\n",
    "LOSS_FUNC = nn.HuberLoss()"
   ],
   "metadata": {
    "collapsed": false,
    "pycharm": {
     "name": "#%%\n"
    }
   }
  },
  {
   "cell_type": "code",
   "execution_count": 13,
   "outputs": [],
   "source": [
    "from IPython.display import clear_output\n",
    "from time import sleep"
   ],
   "metadata": {
    "collapsed": false,
    "pycharm": {
     "name": "#%%\n"
    }
   }
  },
  {
   "cell_type": "code",
   "execution_count": 14,
   "outputs": [],
   "source": [
    "def new_optimizer():\n",
    "    if len(memory) < BATCH_SIZE:\n",
    "        return\n",
    "    transitions = memory.sample(BATCH_SIZE)\n",
    "    batch = Transition(*zip(*transitions))\n",
    "    reward_batch = torch.tensor([batch.reward], device=device, dtype=torch.float32).view(-1, 1)\n",
    "    state_batch = torch.tensor([batch.state], device=device, dtype=torch.float32).view(-1, 1)\n",
    "    next_state_batch = torch.tensor([batch.next_state], device=device, dtype=torch.float32).view(-1, 1)\n",
    "    action_batch = torch.tensor([batch.action], device=device, dtype=torch.int64).view(-1, 1)\n",
    "\n",
    "    Q_val_next = target_net(next_state_batch).detach().max(1)[0]\n",
    "    Q_val_policy = policy_net(state_batch).max(1)[0]\n",
    "    Q_val_target = reward_batch.squeeze() + GAMMA * Q_val_next\n",
    "    loss = LOSS_FUNC(Q_val_target, Q_val_policy)\n",
    "    optimizer.zero_grad()\n",
    "    loss.backward()\n",
    "    optimizer.step()\n"
   ],
   "metadata": {
    "collapsed": false,
    "pycharm": {
     "name": "#%%\n"
    }
   }
  },
  {
   "cell_type": "code",
   "execution_count": 15,
   "outputs": [
    {
     "data": {
      "text/plain": "<Figure size 432x288 with 1 Axes>",
      "image/png": "[encoded data removed]"
     },
     "metadata": {},
     "output_type": "display_data"
    },
    {
     "name": "stdout",
     "output_type": "stream",
     "text": [
      "更新!循环次数:35\n",
      "当前轮次36\n"
     ]
    },
    {
     "name": "stderr",
     "output_type": "stream",
     "text": [
      "\n",
      "KeyboardInterrupt\n",
      "\n"
     ]
    },
    {
     "data": {
      "text/plain": "<Figure size 432x288 with 1 Axes>",
      "image/png": "[encoded data removed]"
     },
     "metadata": {
      "needs_background": "light"
     },
     "output_type": "display_data"
    }
   ],
   "source": [
    "# policy_net进行预测\n",
    "num_episodes = 500\n",
    "record = {}\n",
    "for i in range(num_episodes):\n",
    "    state = env.reset()\n",
    "    step = 0\n",
    "    print(f\"当前轮次{i}\")\n",
    "    for t in count():\n",
    "        action = select_action(state)\n",
    "        next_observation, reward, done, info = env.step(action)\n",
    "        memory.push(state, action, next_observation, reward)\n",
    "        state = next_observation\n",
    "        new_optimizer()\n",
    "        # clear_output(wait=True)\n",
    "        # env.render()\n",
    "        step += 1\n",
    "        if step > 4000:\n",
    "            record[i] = step\n",
    "            break\n",
    "        if done:\n",
    "            record[i] = step\n",
    "            break\n",
    "\n",
    "    if i % TARGET_UPDATE == 0:\n",
    "        clear_output(wait=True)\n",
    "        plt.scatter(record.keys(), record.values())\n",
    "        display.display(plt.gcf())\n",
    "        target_net.load_state_dict(policy_net.state_dict())\n",
    "        print(f\"更新!循环次数:{i}\")"
   ],
   "metadata": {
    "collapsed": false,
    "pycharm": {
     "name": "#%%\n"
    }
   }
  },
  {
   "cell_type": "code",
   "execution_count": 16,
   "outputs": [
    {
     "name": "stdout",
     "output_type": "stream",
     "text": [
      "+---------+\n",
      "|R: | : :\u001B[34;1mG\u001B[0m|\n",
      "| : | : : |\n",
      "| : : : :\u001B[43m \u001B[0m|\n",
      "| | : | : |\n",
      "|\u001B[35mY\u001B[0m| : |B: |\n",
      "+---------+\n",
      "  (East)\n"
     ]
    },
    {
     "name": "stderr",
     "output_type": "stream",
     "text": [
      "\n",
      "KeyboardInterrupt\n",
      "\n"
     ]
    }
   ],
   "source": [
    "# show\n",
    "num_episodes = 500\n",
    "record = {}\n",
    "for i in range(num_episodes):\n",
    "    state = env.reset()\n",
    "    step = 0\n",
    "    print(f\"当前轮次{i}\")\n",
    "    for t in count():\n",
    "        action = select_action(state)\n",
    "        next_observation, reward, done, info = env.step(action)\n",
    "        # memory.push(state, action, next_observation, reward)\n",
    "        state = next_observation\n",
    "        new_optimizer()\n",
    "        clear_output(wait=True)\n",
    "        env.render()\n",
    "        step += 1\n",
    "        if step > 4000:\n",
    "            record[i] = step\n",
    "            break\n",
    "        if done:\n",
    "            record[i] = step\n",
    "            break\n",
    "\n",
    "    if i % TARGET_UPDATE == 0:\n",
    "        # clear_output(wait=True)\n",
    "        # plt.scatter(record.keys(), record.values())\n",
    "        # display.display(plt.gcf())\n",
    "        target_net.load_state_dict(policy_net.state_dict())\n",
    "        print(f\"更新!循环次数:{i}\")"
   ],
   "metadata": {
    "collapsed": false,
    "pycharm": {
     "name": "#%%\n"
    }
   }
  },
  {
   "cell_type": "code",
   "execution_count": null,
   "outputs": [],
   "source": [],
   "metadata": {
    "collapsed": false,
    "pycharm": {
     "name": "#%%\n"
    }
   }
  }
 ],
 "metadata": {
  "kernelspec": {
   "display_name": "Python 3",
   "language": "python",
   "name": "python3"
  },
  "language_info": {
   "codemirror_mode": {
    "name": "ipython",
    "version": 2
   },
   "file_extension": ".py",
   "mimetype": "text/x-python",
   "name": "python",
   "nbconvert_exporter": "python",
   "pygments_lexer": "ipython2",
   "version": "2.7.6"
  }
 },
 "nbformat": 4,
 "nbformat_minor": 0
}