{
 "cells": [
  {
   "cell_type": "markdown",
   "source": [
    "# GAIL\n",
    "\n",
    "## Step 1.生成专家数据"
   ],
   "metadata": {
    "collapsed": false,
    "pycharm": {
     "name": "#%% md\n"
    }
   }
  },
  {
   "cell_type": "code",
   "execution_count": 1,
   "outputs": [],
   "source": [
    "import random\n",
    "\n",
    "import gym\n",
    "import torch as th\n",
    "import numpy as np\n",
    "import matplotlib.pyplot as plt\n",
    "\n",
    "from torch import nn\n",
    "from tqdm import tqdm\n",
    "from torch.nn import functional as F"
   ],
   "metadata": {
    "collapsed": false,
    "pycharm": {
     "name": "#%%\n"
    }
   }
  },
  {
   "cell_type": "code",
   "execution_count": 2,
   "outputs": [],
   "source": [
    "class PolicyNet(nn.Module):\n",
    "\tdef __init__(self, state_dimension, hidden_dimension, action_dimension):\n",
    "\t\tsuper(PolicyNet, self).__init__()\n",
    "\t\tself.fc1 = nn.Linear(state_dimension, hidden_dimension)\n",
    "\t\tself.fc2 = nn.Linear(hidden_dimension, action_dimension)\n",
    "\n",
    "\tdef forward(self, x):\n",
    "\t\tx = F.relu(self.fc1(x))\n",
    "\t\treturn F.softmax(self.fc2(x), dim=1)"
   ],
   "metadata": {
    "collapsed": false,
    "pycharm": {
     "name": "#%%\n"
    }
   }
  },
  {
   "cell_type": "code",
   "execution_count": 3,
   "outputs": [],
   "source": [
    "class ValueNet(nn.Module):\n",
    "\tdef __init__(self, state_dimension, hidden_dimension):\n",
    "\t\tsuper(ValueNet, self).__init__()\n",
    "\t\tself.fc1 = nn.Linear(state_dimension, hidden_dimension)\n",
    "\t\tself.fc2 = nn.Linear(hidden_dimension, 1)\n",
    "\n",
    "\tdef forward(self, x):\n",
    "\t\tx = F.relu(self.fc1(x))\n",
    "\t\treturn self.fc2(x)"
   ],
   "metadata": {
    "collapsed": false,
    "pycharm": {
     "name": "#%%\n"
    }
   }
  },
  {
   "cell_type": "code",
   "execution_count": 4,
   "outputs": [],
   "source": [
    "def compute_advantage(gamma, lambda_, td_delta):\n",
    "\ttd_delta = td_delta.cpu().detach().numpy()\n",
    "\tadvantage_list = []\n",
    "\tadvantage = 0.0\n",
    "\tfor delta in td_delta[::-1]:\n",
    "\t\tadvantage = gamma * lambda_ * advantage + delta\n",
    "\t\tadvantage_list.append(advantage)\n",
    "\tadvantage_list.reverse()\n",
    "\treturn th.tensor(advantage_list, dtype=th.float)"
   ],
   "metadata": {
    "collapsed": false,
    "pycharm": {
     "name": "#%%\n"
    }
   }
  },
  {
   "cell_type": "code",
   "execution_count": 5,
   "outputs": [],
   "source": [
    "class PPO:\n",
    "\t\"\"\" PPO算法，采用截断方式 \"\"\"\n",
    "\n",
    "\tdef __init__(self, state_dimension, hidden_dimension, action_dimension, actor_lr, critic_lr, lambda_, epochs, eps, gamma):\n",
    "\t\tself.actor = PolicyNet(state_dimension, hidden_dimension, action_dimension).to(device)\n",
    "\t\tself.critic = ValueNet(state_dimension, hidden_dimension).to(device)\n",
    "\t\tself.actor_optimizer = th.optim.Adam(self.actor.parameters(), lr=actor_lr)\n",
    "\t\tself.critic_optimizer = th.optim.Adam(self.critic.parameters(), lr=critic_lr)\n",
    "\t\tself.gamma = gamma\n",
    "\t\tself.lambda_ = lambda_\n",
    "\t\tself.epochs = epochs\n",
    "\t\tself.eps = eps\n",
    "\n",
    "\tdef take_action(self, state):\n",
    "\t\tstate = th.tensor([state], dtype=th.float).to(device)\n",
    "\t\tprobs = self.actor(state)\n",
    "\t\taction_dist = th.distributions.Categorical(probs)\n",
    "\t\taction = action_dist.sample()\n",
    "\t\treturn action.item()\n",
    "\n",
    "\tdef update(self, transition_dict):\n",
    "\t\tstates = th.tensor(transition_dict[\"states\"], dtype=th.float).to(device)\n",
    "\t\tactions = th.tensor(transition_dict[\"actions\"], dtype=th.float).view(-1, 1).to(device)\n",
    "\t\trewards = th.tensor(transition_dict[\"rewards\"], dtype=th.float).view(-1, 1).to(device)\n",
    "\t\tnext_states = th.tensor(transition_dict[\"next_states\"], dtype=th.float).to(device)\n",
    "\t\tdones = th.tensor(transition_dict[\"dones\"], dtype=th.float).view(-1, 1).to(device)\n",
    "\t\ttd_target = rewards + self.gamma * self.critic(next_states) * (1 - dones).to(device)\n",
    "\t\ttd_delta = td_target - self.critic(states)\n",
    "\t\tadvantage = compute_advantage(self.gamma, self.lambda_, td_delta).to(device)\n",
    "\t\told_log_probs = th.log(self.actor(states).gather(1, actions.type(th.int64))).detach()\n",
    "\n",
    "\t\tfor _ in range(self.epochs):\n",
    "\t\t\tlog_probs = th.log(self.actor(states).gather(1, actions.type(th.int64)))\n",
    "\t\t\tratio = th.exp(log_probs - old_log_probs)\n",
    "\t\t\tsurr1 = ratio * advantage\n",
    "\t\t\tsurr2 = th.clamp(ratio, 1 - self.eps, 1 + self.eps) * advantage\n",
    "\t\t\tactor_loss = th.mean(-th.min(surr1, surr2))\n",
    "\t\t\tcritic_loss = th.mean(F.mse_loss(self.critic(states), td_target.detach()))\n",
    "\t\t\tself.actor_optimizer.zero_grad()\n",
    "\t\t\tself.critic_optimizer.zero_grad()\n",
    "\t\t\tactor_loss.backward()\n",
    "\t\t\tcritic_loss.backward()\n",
    "\t\t\tself.actor_optimizer.step()\n",
    "\t\t\tself.critic_optimizer.step()"
   ],
   "metadata": {
    "collapsed": false,
    "pycharm": {
     "name": "#%%\n"
    }
   }
  },
  {
   "cell_type": "code",
   "execution_count": 6,
   "outputs": [],
   "source": [
    "def train_on_policy_agent(env, agent, num_episodes, is_render=False):\n",
    "\treturn_list = []\n",
    "\tfor i in range(epochs):\n",
    "\t\twith tqdm(total=int(num_episodes / 10), desc='Iteration %d' % i) as pbar:\n",
    "\t\t\tfor i_episode in range(int(num_episodes / 10)):\n",
    "\t\t\t\tepisode_return = 0\n",
    "\t\t\t\ttransition_dict = {\"states\": [], \"actions\": [], \"next_states\": [], \"rewards\": [], \"dones\": []}\n",
    "\t\t\t\tstate = env.reset()\n",
    "\t\t\t\tdone = False\n",
    "\t\t\t\twhile not done:\n",
    "\t\t\t\t\taction = agent.take_action(state)\n",
    "\t\t\t\t\tnext_state, reward, done, _ = env.step(action)\n",
    "\n",
    "\t\t\t\t\t# 是否渲染动画\n",
    "\t\t\t\t\tif is_render:\n",
    "\t\t\t\t\t\tenv.render()\n",
    "\n",
    "\t\t\t\t\ttransition_dict[\"states\"].append(state)\n",
    "\t\t\t\t\ttransition_dict[\"actions\"].append(action)\n",
    "\t\t\t\t\ttransition_dict[\"next_states\"].append(next_state)\n",
    "\t\t\t\t\ttransition_dict[\"rewards\"].append(reward)\n",
    "\t\t\t\t\ttransition_dict[\"dones\"].append(done)\n",
    "\t\t\t\t\tstate = next_state\n",
    "\t\t\t\t\tepisode_return += reward\n",
    "\t\t\t\treturn_list.append(episode_return)\n",
    "\t\t\t\tagent.update(transition_dict)\n",
    "\t\t\t\tif (i_episode + 1) % 10 == 0:\n",
    "\t\t\t\t\tpbar.set_postfix({'episode': '%d' % (num_episodes / 10 * i + i_episode + 1),\n",
    "\t\t\t\t\t                  'return': '%.3f' % np.mean(return_list[-10:])})\n",
    "\t\t\t\tpbar.update(1)\n",
    "\treturn return_list"
   ],
   "metadata": {
    "collapsed": false,
    "pycharm": {
     "name": "#%%\n"
    }
   }
  },
  {
   "cell_type": "code",
   "execution_count": 7,
   "outputs": [],
   "source": [
    "class Discriminator(nn.Module):\n",
    "\tdef __init__(self, state_dimension, hidden_dimension, action_dimension):\n",
    "\t\tsuper(Discriminator, self).__init__()\n",
    "\t\tself.fc1 = th.nn.Linear(state_dimension + action_dimension, hidden_dimension)\n",
    "\t\tself.fc2 = th.nn.Linear(hidden_dimension, 1)\n",
    "\n",
    "\tdef forward(self, x, a):\n",
    "\t\tcat_data = th.cat([x, a], dim=1)\n",
    "\t\tx = F.relu(self.fc1(cat_data))\n",
    "\t\treturn th.sigmoid(self.fc2(x))"
   ],
   "metadata": {
    "collapsed": false,
    "pycharm": {
     "name": "#%%\n"
    }
   }
  },
  {
   "cell_type": "code",
   "execution_count": 8,
   "outputs": [],
   "source": [
    "class GAIL:\n",
    "    def __init__(self, agent, state_dimension, action_dimension, hidden_dimension, lr_d):\n",
    "        self.discriminator = Discriminator(state_dimension, hidden_dimension, action_dimension).to(device)\n",
    "        self.discriminator_optimizer = th.optim.Adam(self.discriminator.parameters(), lr=lr_d)\n",
    "        self.agent = agent\n",
    "\n",
    "    def learn(self, expert_s, expert_a, agent_s, agent_a, next_s, dones):\n",
    "        expert_states = th.tensor(expert_s, dtype=th.float).to(device)\n",
    "        expert_actions = th.tensor(expert_a, dtype=th.int64).to(device)\n",
    "        agent_states = th.tensor(agent_s, dtype=th.float).to(device)\n",
    "        agent_actions = th.tensor(agent_a, dtype=th.int64).to(device)\n",
    "        expert_actions = F.one_hot(expert_actions, num_classes=3).float()\n",
    "        agent_actions = F.one_hot(agent_actions, num_classes=3).float()\n",
    "\n",
    "        expert_prob = self.discriminator(expert_states, expert_actions)\n",
    "        agent_prob = self.discriminator(agent_states, agent_actions)\n",
    "        discriminator_loss = nn.BCELoss()(agent_prob, th.ones_like(agent_prob)) + nn.BCELoss()(expert_prob, th.zeros_like(expert_prob))\n",
    "        self.discriminator_optimizer.zero_grad()\n",
    "        discriminator_loss.backward()\n",
    "        self.discriminator_optimizer.step()\n",
    "\n",
    "        rewards = -th.log(agent_prob).detach().cpu().numpy()\n",
    "        transition_dict = {\n",
    "            'states': agent_s,\n",
    "            'actions': agent_a,\n",
    "            'rewards': rewards,\n",
    "            'next_states': next_s,\n",
    "            'dones': dones\n",
    "        }\n",
    "        self.agent.update(transition_dict)"
   ],
   "metadata": {
    "collapsed": false,
    "pycharm": {
     "name": "#%%\n"
    }
   }
  },
  {
   "cell_type": "code",
   "execution_count": 9,
   "outputs": [
    {
     "name": "stdout",
     "output_type": "stream",
     "text": [
      "device: cuda\n"
     ]
    }
   ],
   "source": [
    "device = th.device(\"cuda\") if th.cuda.is_available() else th.device(\"cpu\")\n",
    "# device = th.device(\"cpu\")\n",
    "print(f\"device: {device}\")"
   ],
   "metadata": {
    "collapsed": false,
    "pycharm": {
     "name": "#%%\n"
    }
   }
  },
  {
   "cell_type": "code",
   "execution_count": 10,
   "outputs": [],
   "source": [
    "def sample_expert_data(n_episode):\n",
    "    states = []\n",
    "    actions = []\n",
    "    for episode in range(n_episode):\n",
    "        state = env.reset()\n",
    "        done = False\n",
    "        while not done:\n",
    "            action = ppo_agent.take_action(state)\n",
    "            states.append(state)\n",
    "            actions.append(action)\n",
    "            next_state, reward, done, _ = env.step(action)\n",
    "            state = next_state\n",
    "            env.render()\n",
    "    env.close()\n",
    "    return np.array(states), np.array(actions)"
   ],
   "metadata": {
    "collapsed": false,
    "pycharm": {
     "name": "#%%\n"
    }
   }
  },
  {
   "cell_type": "markdown",
   "source": [
    "# Acrobot-v1"
   ],
   "metadata": {
    "collapsed": false,
    "pycharm": {
     "name": "#%% md\n"
    }
   }
  },
  {
   "cell_type": "code",
   "execution_count": 19,
   "outputs": [],
   "source": [
    "actor_lr = 1e-3\n",
    "critic_lr = 1e-2\n",
    "num_episodes = 500\n",
    "hidden_dim = 128\n",
    "gamma = 0.999\n",
    "lambda_ = 0.99\n",
    "epochs = 20\n",
    "eps = 0.2\n",
    "\n",
    "env = gym.make(\"Acrobot-v1\")\n",
    "state_dim = env.observation_space.shape[0]\n",
    "action_dim = env.action_space.n\n",
    "ppo_agent = PPO(state_dim, hidden_dim, action_dim, actor_lr, critic_lr, lambda_, epochs, eps, gamma)"
   ],
   "metadata": {
    "collapsed": false,
    "pycharm": {
     "name": "#%%\n"
    }
   }
  },
  {
   "cell_type": "code",
   "execution_count": 20,
   "outputs": [
    {
     "name": "stdout",
     "output_type": "stream",
     "text": [
      "state_dim: 6\n",
      "action_dim: 3\n"
     ]
    }
   ],
   "source": [
    "print(f\"state_dim: {state_dim}\\naction_dim: {action_dim}\")"
   ],
   "metadata": {
    "collapsed": false,
    "pycharm": {
     "name": "#%%\n"
    }
   }
  },
  {
   "cell_type": "code",
   "execution_count": 21,
   "outputs": [
    {
     "name": "stderr",
     "output_type": "stream",
     "text": [
      "Iteration 0: 100%|██████████| 50/50 [00:37<00:00,  1.35it/s, episode=50, return=-439.000]\n",
      "Iteration 1: 100%|██████████| 50/50 [00:21<00:00,  2.32it/s, episode=100, return=-94.900]\n",
      "Iteration 2: 100%|██████████| 50/50 [00:10<00:00,  4.59it/s, episode=150, return=-103.800]\n",
      "Iteration 3: 100%|██████████| 50/50 [00:10<00:00,  4.73it/s, episode=200, return=-87.900]\n",
      "Iteration 4: 100%|██████████| 50/50 [00:10<00:00,  4.81it/s, episode=250, return=-72.100]\n",
      "Iteration 5: 100%|██████████| 50/50 [00:10<00:00,  4.90it/s, episode=300, return=-83.200]\n",
      "Iteration 6: 100%|██████████| 50/50 [00:10<00:00,  4.96it/s, episode=350, return=-80.200]\n",
      "Iteration 7: 100%|██████████| 50/50 [00:10<00:00,  4.71it/s, episode=400, return=-85.800]\n",
      "Iteration 8: 100%|██████████| 50/50 [00:10<00:00,  4.85it/s, episode=450, return=-98.400]\n",
      "Iteration 9: 100%|██████████| 50/50 [00:10<00:00,  4.72it/s, episode=500, return=-99.300]\n",
      "Iteration 10: 100%|██████████| 50/50 [00:10<00:00,  4.83it/s, episode=550, return=-82.600]\n",
      "Iteration 11: 100%|██████████| 50/50 [00:10<00:00,  4.84it/s, episode=600, return=-90.000]\n",
      "Iteration 12: 100%|██████████| 50/50 [00:10<00:00,  4.90it/s, episode=650, return=-81.400]\n",
      "Iteration 13: 100%|██████████| 50/50 [00:10<00:00,  4.74it/s, episode=700, return=-93.100]\n",
      "Iteration 14: 100%|██████████| 50/50 [00:10<00:00,  4.90it/s, episode=750, return=-80.400]\n",
      "Iteration 15: 100%|██████████| 50/50 [00:10<00:00,  4.80it/s, episode=800, return=-87.400]\n",
      "Iteration 16: 100%|██████████| 50/50 [00:10<00:00,  4.64it/s, episode=850, return=-76.000] \n",
      "Iteration 17: 100%|██████████| 50/50 [00:11<00:00,  4.50it/s, episode=900, return=-86.300] \n",
      "Iteration 18: 100%|██████████| 50/50 [00:10<00:00,  4.78it/s, episode=950, return=-83.300]\n",
      "Iteration 19: 100%|██████████| 50/50 [00:11<00:00,  4.48it/s, episode=1000, return=-95.100]\n"
     ]
    }
   ],
   "source": [
    "return_list = train_on_policy_agent(env, ppo_agent, num_episodes, is_render=False)"
   ],
   "metadata": {
    "collapsed": false,
    "pycharm": {
     "name": "#%%\n"
    }
   }
  },
  {
   "cell_type": "code",
   "execution_count": 22,
   "outputs": [
    {
     "data": {
      "text/plain": "<Figure size 432x288 with 1 Axes>",
      "image/png": "[encoded data removed]"
     },
     "metadata": {
      "needs_background": "light"
     },
     "output_type": "display_data"
    }
   ],
   "source": [
    "iteration_list = list(range(len(return_list)))\n",
    "plt.plot(iteration_list, return_list)\n",
    "plt.xlabel(\"Episodes\")\n",
    "plt.ylabel(\"Returns\")\n",
    "plt.title(\"PPO\")\n",
    "plt.show()"
   ],
   "metadata": {
    "collapsed": false,
    "pycharm": {
     "name": "#%%\n"
    }
   }
  },
  {
   "cell_type": "code",
   "execution_count": 23,
   "outputs": [],
   "source": [
    "n_episode = 100\n",
    "expert_s, expert_a = sample_expert_data(n_episode)\n",
    "\n",
    "n_samples = 5000  # 采样100个数据\n",
    "random_index = random.sample(range(expert_s.shape[0]), n_samples)\n",
    "expert_s = expert_s[random_index]\n",
    "expert_a = expert_a[random_index]"
   ],
   "metadata": {
    "collapsed": false,
    "pycharm": {
     "name": "#%%\n"
    }
   }
  },
  {
   "cell_type": "code",
   "execution_count": 24,
   "outputs": [
    {
     "name": "stdout",
     "output_type": "stream",
     "text": [
      "expert_s.shape: (5000, 6)\n",
      "expert_a.shape: (5000,)\n"
     ]
    }
   ],
   "source": [
    "print(f\"expert_s.shape: {expert_s.shape}\\nexpert_a.shape: {expert_a.shape}\")"
   ],
   "metadata": {
    "collapsed": false,
    "pycharm": {
     "name": "#%%\n"
    }
   }
  },
  {
   "cell_type": "code",
   "execution_count": null,
   "outputs": [],
   "source": [],
   "metadata": {
    "collapsed": false,
    "pycharm": {
     "name": "#%%\n"
    }
   }
  },
  {
   "cell_type": "code",
   "execution_count": 33,
   "outputs": [],
   "source": [
    "import pandas as pd"
   ],
   "metadata": {
    "collapsed": false,
    "pycharm": {
     "name": "#%%\n"
    }
   }
  },
  {
   "cell_type": "code",
   "execution_count": 34,
   "outputs": [],
   "source": [
    "expert_a_df = pd.DataFrame(expert_a)"
   ],
   "metadata": {
    "collapsed": false,
    "pycharm": {
     "name": "#%%\n"
    }
   }
  },
  {
   "cell_type": "code",
   "execution_count": 43,
   "outputs": [
    {
     "data": {
      "text/plain": "3135"
     },
     "execution_count": 43,
     "metadata": {},
     "output_type": "execute_result"
    }
   ],
   "source": [
    "sum(expert_a == 0)"
   ],
   "metadata": {
    "collapsed": false,
    "pycharm": {
     "name": "#%%\n"
    }
   }
  },
  {
   "cell_type": "code",
   "execution_count": 44,
   "outputs": [
    {
     "data": {
      "text/plain": "0"
     },
     "execution_count": 44,
     "metadata": {},
     "output_type": "execute_result"
    }
   ],
   "source": [
    "sum(expert_a == 1)"
   ],
   "metadata": {
    "collapsed": false,
    "pycharm": {
     "name": "#%%\n"
    }
   }
  },
  {
   "cell_type": "code",
   "execution_count": 45,
   "outputs": [
    {
     "data": {
      "text/plain": "1865"
     },
     "execution_count": 45,
     "metadata": {},
     "output_type": "execute_result"
    }
   ],
   "source": [
    "sum(expert_a == 2)"
   ],
   "metadata": {
    "collapsed": false,
    "pycharm": {
     "name": "#%%\n"
    }
   }
  },
  {
   "cell_type": "code",
   "execution_count": 39,
   "outputs": [
    {
     "data": {
      "text/plain": "                 0\ncount  5000.000000\nmean      0.746000\nstd       0.967301\nmin       0.000000\n25%       0.000000\n50%       0.000000\n75%       2.000000\nmax       2.000000",
      "text/html": "<div>\n<style scoped>\n    .dataframe tbody tr th:only-of-type {\n        vertical-align: middle;\n    }\n\n    .dataframe tbody tr th {\n        vertical-align: top;\n    }\n\n    .dataframe thead th {\n        text-align: right;\n    }\n</style>\n<table border=\"1\" class=\"dataframe\">\n  <thead>\n    <tr style=\"text-align: right;\">\n      <th></th>\n      <th>0</th>\n    </tr>\n  </thead>\n  <tbody>\n    <tr>\n      <th>count</th>\n      <td>5000.000000</td>\n    </tr>\n    <tr>\n      <th>mean</th>\n      <td>0.746000</td>\n    </tr>\n    <tr>\n      <th>std</th>\n      <td>0.967301</td>\n    </tr>\n    <tr>\n      <th>min</th>\n      <td>0.000000</td>\n    </tr>\n    <tr>\n      <th>25%</th>\n      <td>0.000000</td>\n    </tr>\n    <tr>\n      <th>50%</th>\n      <td>0.000000</td>\n    </tr>\n    <tr>\n      <th>75%</th>\n      <td>2.000000</td>\n    </tr>\n    <tr>\n      <th>max</th>\n      <td>2.000000</td>\n    </tr>\n  </tbody>\n</table>\n</div>"
     },
     "execution_count": 39,
     "metadata": {},
     "output_type": "execute_result"
    }
   ],
   "source": [
    "expert_a_df.describe()"
   ],
   "metadata": {
    "collapsed": false,
    "pycharm": {
     "name": "#%%\n"
    }
   }
  },
  {
   "cell_type": "code",
   "execution_count": 38,
   "outputs": [
    {
     "data": {
      "text/plain": "(array([3135.,    0.,    0.,    0.,    0.,    0.,    0.,    0.,    0.,\n        1865.]),\n array([0. , 0.2, 0.4, 0.6, 0.8, 1. , 1.2, 1.4, 1.6, 1.8, 2. ]),\n <BarContainer object of 10 artists>)"
     },
     "execution_count": 38,
     "metadata": {},
     "output_type": "execute_result"
    },
    {
     "data": {
      "text/plain": "<Figure size 432x288 with 1 Axes>",
      "image/png": "[encoded data removed]"
     },
     "metadata": {
      "needs_background": "light"
     },
     "output_type": "display_data"
    }
   ],
   "source": [
    "plt.hist(expert_a)"
   ],
   "metadata": {
    "collapsed": false,
    "pycharm": {
     "name": "#%%\n"
    }
   }
  },
  {
   "cell_type": "code",
   "execution_count": null,
   "outputs": [],
   "source": [],
   "metadata": {
    "collapsed": false,
    "pycharm": {
     "name": "#%%\n"
    }
   }
  },
  {
   "cell_type": "code",
   "execution_count": null,
   "outputs": [],
   "source": [],
   "metadata": {
    "collapsed": false,
    "pycharm": {
     "name": "#%%\n"
    }
   }
  },
  {
   "cell_type": "code",
   "execution_count": null,
   "outputs": [],
   "source": [],
   "metadata": {
    "collapsed": false,
    "pycharm": {
     "name": "#%%\n"
    }
   }
  },
  {
   "cell_type": "code",
   "execution_count": null,
   "outputs": [],
   "source": [],
   "metadata": {
    "collapsed": false,
    "pycharm": {
     "name": "#%%\n"
    }
   }
  },
  {
   "cell_type": "code",
   "execution_count": 30,
   "outputs": [
    {
     "name": "stderr",
     "output_type": "stream",
     "text": [
      "D:\\anaconda3\\lib\\site-packages\\gym\\utils\\passive_env_checker.py:97: UserWarning: \u001B[33mWARN: We recommend you to use a symmetric and normalized Box action space (range=[-1, 1]) https://stable-baselines3.readthedocs.io/en/master/guide/rl_tips.html\u001B[0m\n",
      "  logger.warn(\n",
      "进度条:   0%|          | 1/500 [01:01<8:28:44, 61.17s/it]\n"
     ]
    },
    {
     "ename": "KeyboardInterrupt",
     "evalue": "",
     "output_type": "error",
     "traceback": [
      "\u001B[1;31m---------------------------------------------------------------------------\u001B[0m",
      "\u001B[1;31mKeyboardInterrupt\u001B[0m                         Traceback (most recent call last)",
      "Input \u001B[1;32mIn [30]\u001B[0m, in \u001B[0;36m<cell line: 8>\u001B[1;34m()\u001B[0m\n\u001B[0;32m     24\u001B[0m     state \u001B[38;5;241m=\u001B[39m next_state\n\u001B[0;32m     25\u001B[0m     episode_return \u001B[38;5;241m+\u001B[39m\u001B[38;5;241m=\u001B[39m reward\n\u001B[1;32m---> 26\u001B[0m     \u001B[43menv\u001B[49m\u001B[38;5;241;43m.\u001B[39;49m\u001B[43mrender\u001B[49m\u001B[43m(\u001B[49m\u001B[43m)\u001B[49m\n\u001B[0;32m     27\u001B[0m return_list\u001B[38;5;241m.\u001B[39mappend(episode_return)\n\u001B[0;32m     28\u001B[0m gail\u001B[38;5;241m.\u001B[39mlearn(expert_s, expert_a, state_list, action_list, next_state_list, done_list)\n",
      "File \u001B[1;32mD:\\anaconda3\\lib\\site-packages\\gym\\core.py:343\u001B[0m, in \u001B[0;36mWrapper.render\u001B[1;34m(self, **kwargs)\u001B[0m\n\u001B[0;32m    341\u001B[0m \u001B[38;5;28;01mdef\u001B[39;00m \u001B[38;5;21mrender\u001B[39m(\u001B[38;5;28mself\u001B[39m, \u001B[38;5;241m*\u001B[39m\u001B[38;5;241m*\u001B[39mkwargs):\n\u001B[0;32m    342\u001B[0m     \u001B[38;5;124;03m\"\"\"Renders the environment with kwargs.\"\"\"\u001B[39;00m\n\u001B[1;32m--> 343\u001B[0m     \u001B[38;5;28;01mreturn\u001B[39;00m \u001B[38;5;28mself\u001B[39m\u001B[38;5;241m.\u001B[39menv\u001B[38;5;241m.\u001B[39mrender(\u001B[38;5;241m*\u001B[39m\u001B[38;5;241m*\u001B[39mkwargs)\n",
      "File \u001B[1;32mD:\\anaconda3\\lib\\site-packages\\gym\\wrappers\\order_enforcing.py:51\u001B[0m, in \u001B[0;36mOrderEnforcing.render\u001B[1;34m(self, **kwargs)\u001B[0m\n\u001B[0;32m     46\u001B[0m \u001B[38;5;28;01mif\u001B[39;00m \u001B[38;5;129;01mnot\u001B[39;00m \u001B[38;5;28mself\u001B[39m\u001B[38;5;241m.\u001B[39m_disable_render_order_enforcing \u001B[38;5;129;01mand\u001B[39;00m \u001B[38;5;129;01mnot\u001B[39;00m \u001B[38;5;28mself\u001B[39m\u001B[38;5;241m.\u001B[39m_has_reset:\n\u001B[0;32m     47\u001B[0m     \u001B[38;5;28;01mraise\u001B[39;00m ResetNeeded(\n\u001B[0;32m     48\u001B[0m         \u001B[38;5;124m\"\u001B[39m\u001B[38;5;124mCannot call `env.render()` before calling `env.reset()`, if this is a intended action, \u001B[39m\u001B[38;5;124m\"\u001B[39m\n\u001B[0;32m     49\u001B[0m         \u001B[38;5;124m\"\u001B[39m\u001B[38;5;124mset `disable_render_order_enforcing=True` on the OrderEnforcer wrapper.\u001B[39m\u001B[38;5;124m\"\u001B[39m\n\u001B[0;32m     50\u001B[0m     )\n\u001B[1;32m---> 51\u001B[0m \u001B[38;5;28;01mreturn\u001B[39;00m \u001B[38;5;28mself\u001B[39m\u001B[38;5;241m.\u001B[39menv\u001B[38;5;241m.\u001B[39mrender(\u001B[38;5;241m*\u001B[39m\u001B[38;5;241m*\u001B[39mkwargs)\n",
      "File \u001B[1;32mD:\\anaconda3\\lib\\site-packages\\gym\\wrappers\\env_checker.py:57\u001B[0m, in \u001B[0;36mPassiveEnvChecker.render\u001B[1;34m(self, **kwargs)\u001B[0m\n\u001B[0;32m     55\u001B[0m     \u001B[38;5;28;01mreturn\u001B[39;00m passive_env_render_check(\u001B[38;5;28mself\u001B[39m\u001B[38;5;241m.\u001B[39menv, \u001B[38;5;241m*\u001B[39m\u001B[38;5;241m*\u001B[39mkwargs)\n\u001B[0;32m     56\u001B[0m \u001B[38;5;28;01melse\u001B[39;00m:\n\u001B[1;32m---> 57\u001B[0m     \u001B[38;5;28;01mreturn\u001B[39;00m \u001B[38;5;28mself\u001B[39m\u001B[38;5;241m.\u001B[39menv\u001B[38;5;241m.\u001B[39mrender(\u001B[38;5;241m*\u001B[39m\u001B[38;5;241m*\u001B[39mkwargs)\n",
      "File \u001B[1;32mD:\\anaconda3\\lib\\site-packages\\gym\\envs\\classic_control\\acrobot.py:342\u001B[0m, in \u001B[0;36mAcrobotEnv.render\u001B[1;34m(self, mode)\u001B[0m\n\u001B[0;32m    340\u001B[0m \u001B[38;5;28;01mif\u001B[39;00m mode \u001B[38;5;241m==\u001B[39m \u001B[38;5;124m\"\u001B[39m\u001B[38;5;124mhuman\u001B[39m\u001B[38;5;124m\"\u001B[39m:\n\u001B[0;32m    341\u001B[0m     pygame\u001B[38;5;241m.\u001B[39mevent\u001B[38;5;241m.\u001B[39mpump()\n\u001B[1;32m--> 342\u001B[0m     \u001B[38;5;28;43mself\u001B[39;49m\u001B[38;5;241;43m.\u001B[39;49m\u001B[43mclock\u001B[49m\u001B[38;5;241;43m.\u001B[39;49m\u001B[43mtick\u001B[49m\u001B[43m(\u001B[49m\u001B[38;5;28;43mself\u001B[39;49m\u001B[38;5;241;43m.\u001B[39;49m\u001B[43mmetadata\u001B[49m\u001B[43m[\u001B[49m\u001B[38;5;124;43m\"\u001B[39;49m\u001B[38;5;124;43mrender_fps\u001B[39;49m\u001B[38;5;124;43m\"\u001B[39;49m\u001B[43m]\u001B[49m\u001B[43m)\u001B[49m\n\u001B[0;32m    343\u001B[0m     pygame\u001B[38;5;241m.\u001B[39mdisplay\u001B[38;5;241m.\u001B[39mflip()\n\u001B[0;32m    345\u001B[0m \u001B[38;5;28;01mif\u001B[39;00m mode \u001B[38;5;241m==\u001B[39m \u001B[38;5;124m\"\u001B[39m\u001B[38;5;124mrgb_array\u001B[39m\u001B[38;5;124m\"\u001B[39m:\n",
      "\u001B[1;31mKeyboardInterrupt\u001B[0m: "
     ]
    }
   ],
   "source": [
    "env = gym.make(\"Acrobot-v1\")\n",
    "lr_d = 1e-3\n",
    "agent = PPO(state_dim, hidden_dim, action_dim - 1, actor_lr, critic_lr, lambda_, epochs, eps, gamma)\n",
    "gail = GAIL(agent, state_dim, action_dim, hidden_dim, lr_d)\n",
    "n_episode = 500\n",
    "return_list = []\n",
    "\n",
    "with tqdm(total=n_episode, desc=\"进度条\") as pbar:\n",
    "    for i in range(n_episode):\n",
    "        episode_return = 0\n",
    "        state = env.reset()\n",
    "        done = False\n",
    "        state_list = []\n",
    "        action_list = []\n",
    "        next_state_list = []\n",
    "        done_list = []\n",
    "        while not done:\n",
    "            action = agent.take_action(state)\n",
    "            next_state, reward, done, _ = env.step(action)\n",
    "            state_list.append(state)\n",
    "            action_list.append(action)\n",
    "            next_state_list.append(next_state)\n",
    "            done_list.append(done)\n",
    "            state = next_state\n",
    "            episode_return += reward\n",
    "            env.render()\n",
    "        return_list.append(episode_return)\n",
    "        gail.learn(expert_s, expert_a, state_list, action_list, next_state_list, done_list)\n",
    "        if (i + 1) % 10 == 0:\n",
    "            pbar.set_postfix({'return': '%.3f' % np.mean(return_list[-10:])})\n",
    "        pbar.update(1)\n",
    "    env.close()"
   ],
   "metadata": {
    "collapsed": false,
    "pycharm": {
     "name": "#%%\n"
    }
   }
  },
  {
   "cell_type": "code",
   "execution_count": 29,
   "outputs": [
    {
     "data": {
      "text/plain": "<Figure size 432x288 with 1 Axes>",
      "image/png": "[encoded data removed]"
     },
     "metadata": {
      "needs_background": "light"
     },
     "output_type": "display_data"
    }
   ],
   "source": [
    "iteration_list = list(range(len(return_list)))\n",
    "plt.plot(iteration_list, return_list)\n",
    "plt.xlabel(\"Episodes\")\n",
    "plt.ylabel(\"Returns\")\n",
    "plt.title(\"GAIL\")\n",
    "plt.show()"
   ],
   "metadata": {
    "collapsed": false,
    "pycharm": {
     "name": "#%%\n"
    }
   }
  },
  {
   "cell_type": "code",
   "execution_count": 18,
   "outputs": [],
   "source": [],
   "metadata": {
    "collapsed": false,
    "pycharm": {
     "name": "#%%\n"
    }
   }
  }
 ],
 "metadata": {
  "kernelspec": {
   "display_name": "Python 3",
   "language": "python",
   "name": "python3"
  },
  "language_info": {
   "codemirror_mode": {
    "name": "ipython",
    "version": 2
   },
   "file_extension": ".py",
   "mimetype": "text/x-python",
   "name": "python",
   "nbconvert_exporter": "python",
   "pygments_lexer": "ipython2",
   "version": "2.7.6"
  }
 },
 "nbformat": 4,
 "nbformat_minor": 0
}